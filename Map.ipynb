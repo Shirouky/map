{
  "cells": [
    {
      "cell_type": "markdown",
      "metadata": {
        "id": "view-in-github",
        "colab_type": "text"
      },
      "source": [
        "<a href=\"https://colab.research.google.com/github/Shirouky/map/blob/main/Map.ipynb\" target=\"_parent\"><img src=\"https://colab.research.google.com/assets/colab-badge.svg\" alt=\"Open In Colab\"/></a>"
      ]
    },
    {
      "cell_type": "code",
      "source": [
        "!git init\n",
        "!git config --global user.email \"mephiderebas@gmail.com\"\n",
        "!git config --global user.name \"Lubov Derebas\""
      ],
      "metadata": {
        "colab": {
          "base_uri": "https://localhost:8080/"
        },
        "id": "SlH4a4F8uzKk",
        "outputId": "a78a7ac6-5710-46cc-8cdb-ebac6732fa48"
      },
      "execution_count": null,
      "outputs": [
        {
          "output_type": "stream",
          "name": "stdout",
          "text": [
            "Reinitialized existing Git repository in /content/.git/\n"
          ]
        }
      ]
    },
    {
      "cell_type": "markdown",
      "source": [
        "# Импорт"
      ],
      "metadata": {
        "id": "IK061PuCONZD"
      }
    },
    {
      "cell_type": "code",
      "source": [
        "pip install osmnx"
      ],
      "metadata": {
        "id": "IB-9GyWvOU0V",
        "colab": {
          "base_uri": "https://localhost:8080/"
        },
        "outputId": "bd678dc7-f73c-4e30-f902-34ddbef24672"
      },
      "execution_count": null,
      "outputs": [
        {
          "output_type": "stream",
          "name": "stdout",
          "text": [
            "Requirement already satisfied: osmnx in /usr/local/lib/python3.11/dist-packages (2.0.3)\n",
            "Requirement already satisfied: geopandas>=1.0 in /usr/local/lib/python3.11/dist-packages (from osmnx) (1.0.1)\n",
            "Requirement already satisfied: networkx>=2.5 in /usr/local/lib/python3.11/dist-packages (from osmnx) (3.4.2)\n",
            "Requirement already satisfied: numpy>=1.22 in /usr/local/lib/python3.11/dist-packages (from osmnx) (2.0.2)\n",
            "Requirement already satisfied: pandas>=1.4 in /usr/local/lib/python3.11/dist-packages (from osmnx) (2.2.2)\n",
            "Requirement already satisfied: requests>=2.27 in /usr/local/lib/python3.11/dist-packages (from osmnx) (2.32.3)\n",
            "Requirement already satisfied: shapely>=2.0 in /usr/local/lib/python3.11/dist-packages (from osmnx) (2.1.0)\n",
            "Requirement already satisfied: pyogrio>=0.7.2 in /usr/local/lib/python3.11/dist-packages (from geopandas>=1.0->osmnx) (0.11.0)\n",
            "Requirement already satisfied: packaging in /usr/local/lib/python3.11/dist-packages (from geopandas>=1.0->osmnx) (24.2)\n",
            "Requirement already satisfied: pyproj>=3.3.0 in /usr/local/lib/python3.11/dist-packages (from geopandas>=1.0->osmnx) (3.7.1)\n",
            "Requirement already satisfied: python-dateutil>=2.8.2 in /usr/local/lib/python3.11/dist-packages (from pandas>=1.4->osmnx) (2.9.0.post0)\n",
            "Requirement already satisfied: pytz>=2020.1 in /usr/local/lib/python3.11/dist-packages (from pandas>=1.4->osmnx) (2025.2)\n",
            "Requirement already satisfied: tzdata>=2022.7 in /usr/local/lib/python3.11/dist-packages (from pandas>=1.4->osmnx) (2025.2)\n",
            "Requirement already satisfied: charset-normalizer<4,>=2 in /usr/local/lib/python3.11/dist-packages (from requests>=2.27->osmnx) (3.4.2)\n",
            "Requirement already satisfied: idna<4,>=2.5 in /usr/local/lib/python3.11/dist-packages (from requests>=2.27->osmnx) (3.10)\n",
            "Requirement already satisfied: urllib3<3,>=1.21.1 in /usr/local/lib/python3.11/dist-packages (from requests>=2.27->osmnx) (2.4.0)\n",
            "Requirement already satisfied: certifi>=2017.4.17 in /usr/local/lib/python3.11/dist-packages (from requests>=2.27->osmnx) (2025.4.26)\n",
            "Requirement already satisfied: six>=1.5 in /usr/local/lib/python3.11/dist-packages (from python-dateutil>=2.8.2->pandas>=1.4->osmnx) (1.17.0)\n"
          ]
        }
      ]
    },
    {
      "cell_type": "code",
      "source": [
        "from __future__ import annotations\n",
        "from abc import ABC, abstractmethod\n",
        "from datetime import datetime\n",
        "import random\n",
        "import matplotlib.pyplot as plt\n",
        "import folium\n",
        "import osmnx as ox\n",
        "import networkx as nx\n",
        "import pandas as pd\n",
        "import random\n",
        "import json\n",
        "from datetime import datetime, timedelta\n",
        "import numpy"
      ],
      "metadata": {
        "id": "bFGnhGCmfiZV"
      },
      "execution_count": null,
      "outputs": []
    },
    {
      "cell_type": "markdown",
      "source": [
        "# Factory"
      ],
      "metadata": {
        "id": "hBkcoqwbflTN"
      }
    },
    {
      "cell_type": "code",
      "source": [
        "def random_time_between(start_time, end_time):\n",
        "    start_timestamp = start_time.timestamp()\n",
        "    end_timestamp = end_time.timestamp()\n",
        "    random_timestamp = random.uniform(start_timestamp, end_timestamp)\n",
        "    return datetime.fromtimestamp(random_timestamp)"
      ],
      "metadata": {
        "id": "MPIBnjCOfg4l"
      },
      "execution_count": null,
      "outputs": []
    },
    {
      "cell_type": "code",
      "source": [
        "def time(hour):\n",
        "  return datetime.strptime(f\"{hour}:00 20-04-2025\", \"%H:%M:%S %d-%m-%Y\")"
      ],
      "metadata": {
        "id": "loxkHpb2pShJ"
      },
      "execution_count": null,
      "outputs": []
    },
    {
      "cell_type": "code",
      "source": [
        "class Factory(ABC):\n",
        "    @abstractmethod\n",
        "    def factory_method(self):\n",
        "        pass\n",
        "\n",
        "    def create(self) -> str:\n",
        "        person = self.factory_method()\n",
        "\n",
        "        return person"
      ],
      "metadata": {
        "id": "8kWBzktwffUA"
      },
      "execution_count": null,
      "outputs": []
    },
    {
      "cell_type": "code",
      "source": [
        "class DoctorFactory(Factory):\n",
        "    def factory_method(self) -> Person:\n",
        "      name = \"doctor\"\n",
        "      places = [[\"amenity\", \"hospital\", \"time\", random_time_between(time(\"6:00\"), time(\"8:30\"))],\n",
        "                  [\"shop\", True, \"time\", random_time_between(time(\"17:00\"), time(\"19:30\"))],\n",
        "                  [\"building\", [\"apartments\", \"residential\", \"house\"], \"delta\", timedelta(minutes=random.randint(5, 40))]]\n",
        "\n",
        "      return Person(name, places)"
      ],
      "metadata": {
        "id": "zqjt2F71fbLs"
      },
      "execution_count": null,
      "outputs": []
    },
    {
      "cell_type": "code",
      "source": [
        "class SchoolChildFactory(Factory):\n",
        "    def factory_method(self) -> Person:\n",
        "        name = \"schoolchild\"\n",
        "        places = [[\"building\", \"school\", \"time\", random_time_between(time(\"7:00\"), time(\"8:30\"))],\n",
        "                  [\"shop\", True, \"time\", random_time_between(time(\"14:00\"), time(\"16:30\"))],\n",
        "                  [\"building\", [\"apartments\", \"residential\", \"house\"], \"delta\", timedelta(minutes=random.randint(5, 20))]]\n",
        "\n",
        "        return Person(name, places)"
      ],
      "metadata": {
        "id": "8khcUxfzfdQT"
      },
      "execution_count": null,
      "outputs": []
    },
    {
      "cell_type": "code",
      "source": [
        "class OfficeWorkerFactory(Factory):\n",
        "    def factory_method(self) -> Person:\n",
        "      name = \"office worker\"\n",
        "      places = [[\"office\", \"company\", \"time\", random_time_between(time(\"7:00\"), time(\"8:30\"))],\n",
        "                  [\"leisure\", \"sports_centre\", \"time\", random_time_between(time(\"17:00\"), time(\"19:00\"))],\n",
        "                  [\"building\", [\"apartments\", \"residential\", \"house\"], \"delta\", timedelta(minutes=random.randint(40, 180))]]\n",
        "\n",
        "      return Person(name, places)"
      ],
      "metadata": {
        "id": "SQX-1d0O1hwn"
      },
      "execution_count": null,
      "outputs": []
    },
    {
      "cell_type": "code",
      "source": [
        "class CourierFactory(Factory):\n",
        "    def factory_method(self) -> Person:\n",
        "      name = \"courier\"\n",
        "      places = [[\"office\", \"logistics\", \"time\", random_time_between(time(\"7:30\"), time(\"9:30\"))],\n",
        "                  [\"building\", [\"apartments\", \"residential\", \"house\"], \"delta\", timedelta(minutes=random.randint(5, 15))],\n",
        "                  [\"amenity\", \"fast_food\", \"delta\", timedelta(minutes=random.randint(5, 15))],\n",
        "                  [\"building\", \"residential\", \"delta\", timedelta(minutes=random.randint(15, 45))],\n",
        "                  [\"office\", \"logistics\", \"delta\", timedelta(minutes=random.randint(5, 15))],\n",
        "                  [\"building\", [\"apartments\", \"residential\", \"house\"], \"delta\", timedelta(minutes=random.randint(20, 30))]]\n",
        "\n",
        "      return Person(name, places)"
      ],
      "metadata": {
        "id": "IfijXTn-28Rt"
      },
      "execution_count": null,
      "outputs": []
    },
    {
      "cell_type": "code",
      "source": [
        "class SalesmanFactory(Factory):\n",
        "    def factory_method(self) -> Person:\n",
        "      name = \"salesman\"\n",
        "      places = [[\"shop\", True, \"time\", random_time_between(time(\"8:00\"), time(\"9:30\"))],\n",
        "                  [\"amenity\", \"pharmacy\", \"time\", random_time_between(time(\"18:00\"), time(\"19:00\"))],\n",
        "                  [\"building\", [\"apartments\", \"residential\", \"house\"], \"delta\", timedelta(minutes=random.randint(5, 20))]]\n",
        "\n",
        "      return Person(name, places)"
      ],
      "metadata": {
        "id": "aRPc6eUv4OXh"
      },
      "execution_count": null,
      "outputs": []
    },
    {
      "cell_type": "code",
      "source": [
        "class Person:\n",
        "    places = []\n",
        "    name = \"\"\n",
        "\n",
        "    def __init__(self, name: str, places: list):\n",
        "        self.name = name\n",
        "        self.places = places\n",
        "\n",
        "    def get_places(self):\n",
        "      return self.places\n",
        "\n",
        "    def get_name(self):\n",
        "      return self.name"
      ],
      "metadata": {
        "id": "DdDUxV4Pf40L"
      },
      "execution_count": null,
      "outputs": []
    },
    {
      "cell_type": "markdown",
      "source": [
        "# Визуализация"
      ],
      "metadata": {
        "id": "GvCYK7r2TTAP"
      }
    },
    {
      "cell_type": "code",
      "source": [
        "def visualize_png(graph, routes, place, uid):\n",
        "    route = []\n",
        "    for r in routes:\n",
        "      route += r\n",
        "    ox.plot_graph_route(\n",
        "        graph,\n",
        "        route,\n",
        "        route_color='red',\n",
        "        route_linewidth=4,\n",
        "        node_size=0,\n",
        "        bgcolor='white',\n",
        "        show=False,\n",
        "        close=False\n",
        "    )\n",
        "    plt.title(f\"Маршрут перемещения в {place} человека с uid {uid}\")\n",
        "    plt.savefig(\"route_plot.png\")\n",
        "    plt.show()"
      ],
      "metadata": {
        "id": "BlttnV4-29wr"
      },
      "execution_count": null,
      "outputs": []
    },
    {
      "cell_type": "code",
      "source": [
        "def visualize_interactive(G, routes, name, uid):\n",
        "    # Интерактивная карта с folium (открывается в браузере)\n",
        "    print(\"\\nСоздание интерактивной карты (folium)...\")\n",
        "    # Создаем карту с центром в первой точке маршрута\n",
        "    m = folium.Map(\n",
        "          location=(G.nodes[routes[0][0]]['y'], G.nodes[routes[0][0]]['x']),\n",
        "          zoom_start=14,\n",
        "          tiles=\"OpenStreetMap\"\n",
        "      )\n",
        "\n",
        "    for route in routes:\n",
        "      # Получаем координаты всех точек маршрута\n",
        "      route_coords = [(G.nodes[node]['y'], G.nodes[node]['x']) for node in route]\n",
        "\n",
        "      # Добавляем линию маршрута\n",
        "      folium.PolyLine(\n",
        "          route_coords,\n",
        "          color=\"red\",\n",
        "          weight=5,\n",
        "          opacity=0.8\n",
        "      ).add_to(m)\n",
        "\n",
        "      # Добавляем маркеры\n",
        "      folium.Marker(\n",
        "          route_coords[0],\n",
        "          icon=folium.Icon(color=\"green\")\n",
        "      ).add_to(m)\n",
        "\n",
        "    # Сохраняем HTML с картой\n",
        "    m.save(f\"interactive_route_{name}_{uid}.html\")\n",
        "    print(\"Интерактивная карта сохранена в interactive_route.html\")\n"
      ],
      "metadata": {
        "id": "74j9qvXT2hHX"
      },
      "execution_count": null,
      "outputs": []
    },
    {
      "cell_type": "markdown",
      "source": [
        "# Main"
      ],
      "metadata": {
        "id": "2eYHiDQJfpNc"
      }
    },
    {
      "cell_type": "code",
      "source": [
        "def create_graph(place, network):\n",
        "    graph = ox.graph_from_place(place, network_type=network)\n",
        "    G = ox.convert.to_digraph(graph)\n",
        "\n",
        "    return graph, G"
      ],
      "metadata": {
        "id": "kjRjUIcHfFJw"
      },
      "execution_count": null,
      "outputs": []
    },
    {
      "cell_type": "code",
      "source": [
        "def json_save(output_data):\n",
        "    with open('movement.json', 'w') as f:\n",
        "        json.dump(output_data, f, indent=2)\n",
        "\n",
        "    print(\"Данные о перемещении сохранены в movement.json\")\n"
      ],
      "metadata": {
        "id": "-pX8LNArfHYw"
      },
      "execution_count": null,
      "outputs": []
    },
    {
      "cell_type": "code",
      "source": [
        "def calculate_time(start_point, end_point, has_car=True, is_raining=False, is_urgent=False):\n",
        "\n",
        "    speeds = {\n",
        "        'walk': 5000,\n",
        "        'bike': 15000,\n",
        "        'drive': 60000\n",
        "    }\n",
        "\n",
        "    if is_raining: speeds['walk'] *= 0.7\n",
        "    if is_urgent: speeds['drive'] *= 1.2\n",
        "\n",
        "    graphs = {}\n",
        "    if has_car: graphs['drive'] = G_drive\n",
        "    graphs.update({'walk': G_walk, 'bike': G_bike})\n",
        "\n",
        "    best_time = float('inf')\n",
        "    best_result = None\n",
        "\n",
        "    for transport, G in graphs.items():\n",
        "        try:\n",
        "            route = nx.shortest_path(G, ox.nearest_nodes(G, *start_point[::-1]),\n",
        "                                     ox.nearest_nodes(G, *end_point[::-1]),\n",
        "                                     weight='length')\n",
        "            dist = sum(ox.utils_graph.get_route_edge_attributes(G, route, 'length'))\n",
        "            time = dist / speeds[transport] * 60  # В минутах\n",
        "\n",
        "            if transport == 'drive': time += 5  # Парковка\n",
        "            elif transport == 'bike': time += 3  # Замок\n",
        "\n",
        "            if time < best_time:\n",
        "                best_time = time\n",
        "                best_result = (G, route, transport, timedelta(minutes=time))\n",
        "        except:\n",
        "            continue\n",
        "\n",
        "    return best_result"
      ],
      "metadata": {
        "id": "q7uscerz-5W6"
      },
      "execution_count": null,
      "outputs": []
    },
    {
      "cell_type": "code",
      "source": [
        "def generate_track(nodes, place, places):\n",
        "    # Получаем случайный жилой дом\n",
        "    gdf = ox.features.features_from_place(place, tags={\"building\": [\"apartments\", \"residential\", \"house\"]})\n",
        "    houses = gdf[pd.notnull(gdf[\"building\"])]\n",
        "    home = houses.sample(1).iloc[0]\n",
        "    home_point = home.geometry.centroid\n",
        "\n",
        "    # Находим ближайший узел графа для стартовой точки\n",
        "    start_node = ox.distance.nearest_nodes(G, home_point.x, home_point.y)\n",
        "    start_address = f\"Лобня, {home.get('addr:street', 'улица не указана')}, {home.get('addr:housenumber', 'номер не указан')}\"\n",
        "\n",
        "    movement_data = []\n",
        "    current_node = start_node\n",
        "    routes = []\n",
        "    current_time = 0\n",
        "    distance = 3000\n",
        "\n",
        "    speeds = {\n",
        "        'walk': 5000,\n",
        "        'bike': 15000,\n",
        "        'drive': 50000\n",
        "    }\n",
        "    transport = 'drive'\n",
        "\n",
        "    for i, place_info in enumerate(places):\n",
        "        tag, value, time_type, time_value = place_info\n",
        "\n",
        "        if time_type == \"time\":\n",
        "          current_time = time_value\n",
        "        elif time_type == \"delta\":\n",
        "          current_time += time_value\n",
        "\n",
        "        print(current_time, tag)\n",
        "\n",
        "        # Ищем объекты нужного типа в радиусе search_radius\n",
        "        if i == len(places) - 1:  # Возвращаемся домой\n",
        "            end_place = home\n",
        "        else:\n",
        "            # Поиск в радиусе от текущей позиции\n",
        "            point = G.nodes[current_node]\n",
        "            current_location = (point['y'], point['x'])\n",
        "\n",
        "            try:\n",
        "              nearby_objects = ox.features_from_point(\n",
        "                  center_point=current_location,\n",
        "                  dist=distance,\n",
        "                  tags={tag: value}\n",
        "              )\n",
        "            except ox._errors.InsufficientResponseError as e:\n",
        "              print(f\"Не найдено объектов {tag}={value} в радиусе {distance} м\")\n",
        "              continue\n",
        "\n",
        "            end_place = nearby_objects.sample(1).iloc[0]\n",
        "\n",
        "        end_point = end_place.geometry.centroid\n",
        "        end_node = ox.distance.nearest_nodes(G, end_point.x, end_point.y)\n",
        "\n",
        "        # Находим ближайший узел графа для конечной точки\n",
        "        end_node = ox.distance.nearest_nodes(G, end_point.x, end_point.y)\n",
        "        # Строим маршрут\n",
        "        try:\n",
        "            new_route = nx.shortest_path(G, current_node, end_node, weight='length')\n",
        "            routes.append(new_route)\n",
        "\n",
        "            # Генерируем данные движения\n",
        "            _point = {'y': G.nodes[current_node]['y'], 'x': G.nodes[current_node]['x']}\n",
        "            for i, node in enumerate(new_route):\n",
        "              point = G.nodes[node]\n",
        "              lat, lon = point['y'], point['x']\n",
        "\n",
        "              dist = ox.distance.euclidean(_point['y'], _point['x'], point['y'], point['x']) * 10 ** 5\n",
        "              time_spent = round(dist / speeds[transport] * 3600)\n",
        "              current_time += timedelta(seconds=time_spent)\n",
        "\n",
        "              movement_entry = {\n",
        "                  \"latitude\": int(lat * 10 ** 6),\n",
        "                  \"longitude\": int(lon * 10 ** 6),\n",
        "                  \"timestamp\": int(current_time.timestamp())\n",
        "              }\n",
        "              movement_data.append(movement_entry)\n",
        "              _point = point\n",
        "\n",
        "              current_node = end_node\n",
        "\n",
        "        except nx.NetworkXNoPath:\n",
        "            continue\n",
        "\n",
        "    return routes, movement_data\n"
      ],
      "metadata": {
        "id": "gx6s45puSinU"
      },
      "execution_count": null,
      "outputs": []
    },
    {
      "cell_type": "code",
      "source": [
        "place = \"Россия, Лобня\"\n",
        "female = 1054\n",
        "male = 1000\n",
        "rosstat_gender = [male / (female + male), female / (female + male)]\n",
        "\n",
        "network = 'drive'\n",
        "graph, G = create_graph(place, network)\n",
        "nodes = list(G.nodes())\n",
        "start_time = datetime.now()\n",
        "output_data = []"
      ],
      "metadata": {
        "id": "WA9AzNXCf-JP"
      },
      "execution_count": null,
      "outputs": []
    },
    {
      "cell_type": "code",
      "source": [
        "factories = [DoctorFactory(), SchoolChildFactory(), OfficeWorkerFactory(), SalesmanFactory()]"
      ],
      "metadata": {
        "id": "eD8rowVNl82u"
      },
      "execution_count": null,
      "outputs": []
    },
    {
      "cell_type": "code",
      "source": [
        "for uid in range(10):\n",
        "    person = random.choice(factories).create()\n",
        "    print(person.get_name())\n",
        "    routes, movement_data = generate_track(nodes, place, person.get_places())\n",
        "    output_data.append({\n",
        "        \"id\": uid,\n",
        "        \"track\": movement_data,\n",
        "        \"optional_data\": {\n",
        "            \"gender\": int(numpy.random.choice((0, 1), p=rosstat_gender)),\n",
        "            \"age\": random.randint(15, 50),\n",
        "        },\n",
        "    })\n",
        "    visualize_interactive(G, routes, person.get_name(), uid)\n",
        "    # visualize_png(graph, routes, place, uid)\n",
        "\n",
        "json_save(output_data)"
      ],
      "metadata": {
        "colab": {
          "base_uri": "https://localhost:8080/"
        },
        "id": "fa4u6ZJXfLeB",
        "outputId": "216270ab-86a6-437a-f5ba-a1c21e3d2ad0"
      },
      "execution_count": null,
      "outputs": [
        {
          "output_type": "stream",
          "name": "stdout",
          "text": [
            "schoolchild\n",
            "2025-04-20 07:20:55.800100 building\n",
            "2025-04-20 15:56:13.382573 shop\n",
            "2025-04-20 16:09:50.382573 building\n",
            "\n",
            "Создание интерактивной карты (folium)...\n",
            "Интерактивная карта сохранена в interactive_route.html\n",
            "schoolchild\n",
            "2025-04-20 07:46:23.628872 building\n",
            "2025-04-20 16:14:11.528179 shop\n",
            "2025-04-20 16:32:39.528179 building\n",
            "\n",
            "Создание интерактивной карты (folium)...\n",
            "Интерактивная карта сохранена в interactive_route.html\n",
            "salesman\n",
            "2025-04-20 09:26:15.350525 shop\n",
            "2025-04-20 18:43:23.624307 amenity\n",
            "2025-04-20 18:57:52.624307 building\n",
            "\n",
            "Создание интерактивной карты (folium)...\n",
            "Интерактивная карта сохранена в interactive_route.html\n",
            "doctor\n",
            "2025-04-20 06:35:22.422795 amenity\n",
            "2025-04-20 17:54:46.387862 shop\n",
            "2025-04-20 18:15:27.387862 building\n",
            "\n",
            "Создание интерактивной карты (folium)...\n",
            "Интерактивная карта сохранена в interactive_route.html\n",
            "salesman\n",
            "2025-04-20 09:04:47.406075 shop\n",
            "2025-04-20 18:43:12.591923 amenity\n",
            "2025-04-20 18:50:35.591923 building\n",
            "\n",
            "Создание интерактивной карты (folium)...\n",
            "Интерактивная карта сохранена в interactive_route.html\n",
            "schoolchild\n",
            "2025-04-20 07:57:28.349163 building\n",
            "2025-04-20 15:40:08.906555 shop\n",
            "2025-04-20 15:53:41.906555 building\n",
            "\n",
            "Создание интерактивной карты (folium)...\n",
            "Интерактивная карта сохранена в interactive_route.html\n",
            "office worker\n",
            "2025-04-20 07:58:35.351601 office\n",
            "2025-04-20 18:29:46.675411 leisure\n",
            "2025-04-20 20:57:49.675411 building\n",
            "\n",
            "Создание интерактивной карты (folium)...\n",
            "Интерактивная карта сохранена в interactive_route.html\n",
            "office worker\n",
            "2025-04-20 07:50:10.538924 office\n",
            "2025-04-20 18:51:51.035435 leisure\n",
            "2025-04-20 19:36:28.035435 building\n",
            "\n",
            "Создание интерактивной карты (folium)...\n",
            "Интерактивная карта сохранена в interactive_route.html\n",
            "schoolchild\n",
            "2025-04-20 08:19:05.350767 building\n",
            "2025-04-20 15:28:33.166637 shop\n",
            "2025-04-20 15:48:04.166637 building\n",
            "\n",
            "Создание интерактивной карты (folium)...\n",
            "Интерактивная карта сохранена в interactive_route.html\n",
            "salesman\n",
            "2025-04-20 08:19:47.952748 shop\n",
            "2025-04-20 18:23:24.669221 amenity\n",
            "2025-04-20 18:35:03.669221 building\n",
            "\n",
            "Создание интерактивной карты (folium)...\n",
            "Интерактивная карта сохранена в interactive_route.html\n",
            "Данные о перемещении сохранены в movement.json\n"
          ]
        }
      ]
    }
  ],
  "metadata": {
    "colab": {
      "provenance": [],
      "include_colab_link": true
    },
    "kernelspec": {
      "display_name": "Python 3",
      "name": "python3"
    }
  },
  "nbformat": 4,
  "nbformat_minor": 0
}